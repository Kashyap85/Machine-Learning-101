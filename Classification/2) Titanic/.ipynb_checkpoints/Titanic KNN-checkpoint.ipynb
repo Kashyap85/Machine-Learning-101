{
 "cells": [
  {
   "cell_type": "code",
   "execution_count": 72,
   "metadata": {},
   "outputs": [],
   "source": [
    "import pandas as pd\n",
    "import numpy as np\n",
    "test = pd.read_csv (r'test.csv')\n",
    "train = pd.read_csv (r'train.csv')\n",
    "y_test = pd.read_csv (r'gender_submission.csv')"
   ]
  },
  {
   "cell_type": "code",
   "execution_count": 73,
   "metadata": {},
   "outputs": [
    {
     "name": "stdout",
     "output_type": "stream",
     "text": [
      "<class 'pandas.core.frame.DataFrame'>\n"
     ]
    }
   ],
   "source": [
    "print(type(train))"
   ]
  },
  {
   "cell_type": "code",
   "execution_count": 74,
   "metadata": {},
   "outputs": [],
   "source": [
    "test.insert(1,\"Survived\",y_test['Survived'],True)\n",
    "test['Sex']=le.fit_transform(test['Sex'])\n",
    "test=test.dropna()\n",
    "x_test=test[['Pclass','Sex','Age','SibSp','Parch','Fare']]\n",
    "y_test=test['Survived']"
   ]
  },
  {
   "cell_type": "code",
   "execution_count": 75,
   "metadata": {},
   "outputs": [],
   "source": [
    "x_train=train[['Pclass','Age','SibSp','Parch','Fare','Survived']].dropna()"
   ]
  },
  {
   "cell_type": "code",
   "execution_count": 76,
   "metadata": {},
   "outputs": [],
   "source": [
    "from sklearn.preprocessing import LabelEncoder\n",
    "le=LabelEncoder()\n",
    "df=pd.DataFrame(le.fit_transform(train['Sex']))\n",
    "x_train.insert(1,\"Sex\",df,True)\n",
    "#print(x_train.dropna())"
   ]
  },
  {
   "cell_type": "code",
   "execution_count": 77,
   "metadata": {},
   "outputs": [],
   "source": [
    "y_train=x_train['Survived']"
   ]
  },
  {
   "cell_type": "code",
   "execution_count": 78,
   "metadata": {},
   "outputs": [
    {
     "data": {
      "text/plain": [
       "KNeighborsClassifier(algorithm='auto', leaf_size=30, metric='minkowski',\n",
       "                     metric_params=None, n_jobs=None, n_neighbors=2, p=2,\n",
       "                     weights='uniform')"
      ]
     },
     "execution_count": 78,
     "metadata": {},
     "output_type": "execute_result"
    }
   ],
   "source": [
    "x_train1=x_train[['Pclass','Sex','Age','SibSp','Parch','Fare']]\n",
    "#print(x_train)\n",
    "from sklearn.neighbors import KNeighborsClassifier\n",
    "neigh = KNeighborsClassifier(n_neighbors=2)\n",
    "neigh.fit(x_train1,y_train)"
   ]
  },
  {
   "cell_type": "code",
   "execution_count": 79,
   "metadata": {},
   "outputs": [],
   "source": [
    "y_pred=neigh.predict(x_test)"
   ]
  },
  {
   "cell_type": "code",
   "execution_count": 80,
   "metadata": {},
   "outputs": [
    {
     "name": "stdout",
     "output_type": "stream",
     "text": [
      "[0 0 0 1 0 1 0 0 1 1 1 0 1 0 0 0 0 1 0 0 1 1 0 1 0 0 1 1 0 1 1 0 0 1 0 0 0\n",
      " 0 1 1 0 0 0 1 1 0 1 0 1 1 0 1 0 0 1 0 0 0 0 0 1 1 1 0 0 0 0 0 1 0 1 0 1 1\n",
      " 0 0 0 1 0 1 0 0 0 0 1 1 1]\n"
     ]
    }
   ],
   "source": [
    "print(y_pred)"
   ]
  },
  {
   "cell_type": "code",
   "execution_count": 81,
   "metadata": {},
   "outputs": [
    {
     "name": "stdout",
     "output_type": "stream",
     "text": [
      "accuracy score: 0.5632183908045977\n",
      "confision matrix:\n",
      " [[28 15]\n",
      " [23 21]]\n",
      "f1 score: 0.5603723404255321\n"
     ]
    }
   ],
   "source": [
    "from sklearn.metrics import accuracy_score,confusion_matrix, f1_score\n",
    "print(\"accuracy score:\",accuracy_score(y_test, y_pred))\n",
    "print(\"confision matrix:\\n\",confusion_matrix(y_test, y_pred))\n",
    "print(\"f1 score:\",f1_score(y_test, y_pred, average='macro'))"
   ]
  },
  {
   "cell_type": "code",
   "execution_count": null,
   "metadata": {},
   "outputs": [],
   "source": []
  },
  {
   "cell_type": "code",
   "execution_count": 59,
   "metadata": {},
   "outputs": [
    {
     "ename": "SyntaxError",
     "evalue": "EOF while scanning triple-quoted string literal (<ipython-input-59-d54352bf8507>, line 9)",
     "output_type": "error",
     "traceback": [
      "\u001b[1;36m  File \u001b[1;32m\"<ipython-input-59-d54352bf8507>\"\u001b[1;36m, line \u001b[1;32m9\u001b[0m\n\u001b[1;33m    print(x_train.dropna())\"\"\"\"\"\"\u001b[0m\n\u001b[1;37m                                 \n^\u001b[0m\n\u001b[1;31mSyntaxError\u001b[0m\u001b[1;31m:\u001b[0m EOF while scanning triple-quoted string literal\n"
     ]
    }
   ],
   "source": [
    "\"\"\"df2=pd.DataFrame(train['Embarked'].astype(str))\n",
    "print(df2.dtypes)\n",
    "\n",
    "from sklearn.preprocessing import LabelEncoder\n",
    "\n",
    "le=LabelEncoder()\n",
    "df=pd.DataFrame(le.fit_transform(df2))\n",
    "x_train.insert(1,\"Embarked\",df,True)\n",
    "print(x_train.dropna())\"\"\"\"\"\""
   ]
  },
  {
   "cell_type": "code",
   "execution_count": 60,
   "metadata": {},
   "outputs": [
    {
     "data": {
      "text/plain": [
       "\"from sklearn.preprocessing import OneHotEncoder\\nresult = OneHotEncoder().fit_transform(x_train['Sex'].reshape(-1, 1)).toarray()\\nx_train[['Female', 'Male']] = pd.DataFrame(result, index = x_train.index)\\n\""
      ]
     },
     "execution_count": 60,
     "metadata": {},
     "output_type": "execute_result"
    }
   ],
   "source": [
    "\n",
    "\"\"\"from sklearn.preprocessing import OneHotEncoder\n",
    "result = OneHotEncoder().fit_transform(x_train['Sex'].reshape(-1, 1)).toarray()\n",
    "x_train[['Female', 'Male']] = pd.DataFrame(result, index = x_train.index)\n",
    "\"\"\""
   ]
  },
  {
   "cell_type": "code",
   "execution_count": 61,
   "metadata": {},
   "outputs": [
    {
     "data": {
      "text/plain": [
       "\"ar1=x_train['Embarked'].as_matrix()\\nc=0\\nfor i in ar1.shape[:,0]:\\n    if i=='S':\\n        x_train['Embarked'][c]=0\\n    elif i=='Q':\\n        x_train['Embarked'][c]=1\\n    else:\\n        x_train['Embarked'][c]=2\\n    c+=1\\n#print(x_train['Embarked'][0])\""
      ]
     },
     "execution_count": 61,
     "metadata": {},
     "output_type": "execute_result"
    }
   ],
   "source": [
    "\"\"\"ar1=x_train['Embarked'].as_matrix()\n",
    "c=0\n",
    "for i in ar1.shape[:,0]:\n",
    "    if i=='S':\n",
    "        x_train['Embarked'][c]=0\n",
    "    elif i=='Q':\n",
    "        x_train['Embarked'][c]=1\n",
    "    else:\n",
    "        x_train['Embarked'][c]=2\n",
    "    c+=1\n",
    "#print(x_train['Embarked'][0])\"\"\""
   ]
  }
 ],
 "metadata": {
  "kernelspec": {
   "display_name": "Python 3",
   "language": "python",
   "name": "python3"
  },
  "language_info": {
   "codemirror_mode": {
    "name": "ipython",
    "version": 3
   },
   "file_extension": ".py",
   "mimetype": "text/x-python",
   "name": "python",
   "nbconvert_exporter": "python",
   "pygments_lexer": "ipython3",
   "version": "3.7.4"
  }
 },
 "nbformat": 4,
 "nbformat_minor": 2
}
