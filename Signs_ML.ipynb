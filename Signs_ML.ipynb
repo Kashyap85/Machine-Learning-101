{
  "nbformat": 4,
  "nbformat_minor": 0,
  "metadata": {
    "colab": {
      "name": "Signs ML.ipynb",
      "provenance": [],
      "collapsed_sections": [],
      "mount_file_id": "12BVxoosNh3Qw6N_tmr-cJDqRxTLPA5tT",
      "authorship_tag": "ABX9TyMV3fKMAF7DSGTHGfG2nY/R",
      "include_colab_link": true
    },
    "kernelspec": {
      "name": "python3",
      "display_name": "Python 3"
    }
  },
  "cells": [
    {
      "cell_type": "markdown",
      "metadata": {
        "id": "view-in-github",
        "colab_type": "text"
      },
      "source": [
        "<a href=\"https://colab.research.google.com/github/meetgandhi123/Machine-Learning-101/blob/master/Signs_ML.ipynb\" target=\"_parent\"><img src=\"https://colab.research.google.com/assets/colab-badge.svg\" alt=\"Open In Colab\"/></a>"
      ]
    },
    {
      "cell_type": "markdown",
      "metadata": {
        "id": "y7FVepHJ5BIK",
        "colab_type": "text"
      },
      "source": [
        "Importing dataset"
      ]
    },
    {
      "cell_type": "code",
      "metadata": {
        "id": "f9muEoXzV4ag",
        "colab_type": "code",
        "colab": {}
      },
      "source": [
        "! unzip -q \"signsv2.zip\""
      ],
      "execution_count": 0,
      "outputs": []
    },
    {
      "cell_type": "markdown",
      "metadata": {
        "id": "w631CLyY5HUH",
        "colab_type": "text"
      },
      "source": [
        "Reshaping all the images to 300*300 px"
      ]
    },
    {
      "cell_type": "code",
      "metadata": {
        "id": "1jHkf4wGWQd8",
        "colab_type": "code",
        "colab": {}
      },
      "source": [
        "import os\n",
        "import cv2\n",
        "\n",
        "path = '/SIGNS'\n",
        "\n",
        "files = []\n",
        "for r, d, f in os.walk(path):\n",
        "    for file in f:\n",
        "        if '.jpg' in file:\n",
        "            files.append(os.path.join(r, file))\n",
        "\n",
        "for f in files:\n",
        "    img=cv2.imread(f)\n",
        "    img=cv2.resize(img,(300,300))\n",
        "    cv2.imwrite(f, img)"
      ],
      "execution_count": 0,
      "outputs": []
    },
    {
      "cell_type": "markdown",
      "metadata": {
        "id": "UnTLyP1Z5Qp8",
        "colab_type": "text"
      },
      "source": [
        "Checking shape of a random image"
      ]
    },
    {
      "cell_type": "code",
      "metadata": {
        "id": "CLoyjkzlXeGs",
        "colab_type": "code",
        "outputId": "687c7ae2-102f-465c-97e1-179988ab8859",
        "colab": {
          "base_uri": "https://localhost:8080/",
          "height": 34
        }
      },
      "source": [
        "img=cv2.imread(\"/SIGNS/test_signs/0/0_IMG_5943.jpg\")\n",
        "img.shape"
      ],
      "execution_count": 3,
      "outputs": [
        {
          "output_type": "execute_result",
          "data": {
            "text/plain": [
              "(300, 300, 3)"
            ]
          },
          "metadata": {
            "tags": []
          },
          "execution_count": 3
        }
      ]
    },
    {
      "cell_type": "code",
      "metadata": {
        "id": "rcCqwdq9chNs",
        "colab_type": "code",
        "colab": {}
      },
      "source": [
        "import pandas as pd\n",
        "import numpy as np"
      ],
      "execution_count": 0,
      "outputs": []
    },
    {
      "cell_type": "markdown",
      "metadata": {
        "id": "E4FixeTO5ZyZ",
        "colab_type": "text"
      },
      "source": [
        "Converting image to np.ndarray."
      ]
    },
    {
      "cell_type": "code",
      "metadata": {
        "id": "niQghjtfcWky",
        "colab_type": "code",
        "colab": {}
      },
      "source": [
        "def convert(img,d): \n",
        "  mydata=[]\n",
        "  for z in img:\n",
        "    for y in z:\n",
        "      for x1 in y:\n",
        "        mydata.append(x1)\n",
        "  mydata.append(d)\n",
        "  return mydata"
      ],
      "execution_count": 0,
      "outputs": []
    },
    {
      "cell_type": "code",
      "metadata": {
        "id": "_jFODXKmYPnp",
        "colab_type": "code",
        "colab": {}
      },
      "source": [
        "d=[0,1,2,3,4,5]\n",
        "train=np.empty([0,270001])\n",
        "for i in d:\n",
        "  path = '/SIGNS/train_signs/'+str(i)\n",
        "  files = []\n",
        "  for r, d, f in os.walk(path):\n",
        "    for file in f:\n",
        "      if '.jpg' in file:\n",
        "        img=cv2.imread(path+'/'+file)\n",
        "        img2=np.array(convert(img,i)).reshape(1,270001)\n",
        "        train=np.append(train,img2,axis=0)\n"
      ],
      "execution_count": 0,
      "outputs": []
    },
    {
      "cell_type": "code",
      "metadata": {
        "id": "gSwIym83prvj",
        "colab_type": "code",
        "colab": {}
      },
      "source": [
        "d=[0,1,2,3,4,5]\n",
        "test=np.empty([0,270001])\n",
        "for i in d:\n",
        "  path = '/SIGNS/test_signs/'+str(i)\n",
        "  files = []\n",
        "  for r, d, f in os.walk(path):\n",
        "    for file in f:\n",
        "      if '.jpg' in file:\n",
        "        img=cv2.imread(path+'/'+file)\n",
        "        img2=np.array(convert(img,i)).reshape(1,270001)\n",
        "        test=np.append(test,img2,axis=0)\n"
      ],
      "execution_count": 0,
      "outputs": []
    },
    {
      "cell_type": "code",
      "metadata": {
        "id": "ok34WbzhVapo",
        "colab_type": "code",
        "colab": {}
      },
      "source": [
        "d=[0,1,2,3,4,5]\n",
        "dev=np.empty([0,270001])\n",
        "for i in d:\n",
        "  path = '/SIGNS/dev_signs/'+str(i)\n",
        "  files = []\n",
        "  for r, d, f in os.walk(path):\n",
        "    for file in f:\n",
        "      if '.jpg' in file:\n",
        "        img=cv2.imread(path+'/'+file)\n",
        "        img2=np.array(convert(img,i)).reshape(1,270001)\n",
        "        dev=np.append(dev,img2,axis=0)\n"
      ],
      "execution_count": 0,
      "outputs": []
    },
    {
      "cell_type": "markdown",
      "metadata": {
        "id": "k9TT1tdD5kis",
        "colab_type": "text"
      },
      "source": [
        "The images were of RGB and 300*300 px thus the array has shape (n , 300 * 300 * 3)"
      ]
    },
    {
      "cell_type": "code",
      "metadata": {
        "id": "NKM-2QIzvcVE",
        "colab_type": "code",
        "outputId": "c24319c5-365b-40b0-bb3e-6831a8b36374",
        "colab": {
          "base_uri": "https://localhost:8080/",
          "height": 68
        }
      },
      "source": [
        "print(train.shape)\n",
        "print(test.shape)\n",
        "print(dev.shape)"
      ],
      "execution_count": 11,
      "outputs": [
        {
          "output_type": "stream",
          "text": [
            "(864, 270001)\n",
            "(120, 270001)\n",
            "(216, 270001)\n"
          ],
          "name": "stdout"
        }
      ]
    },
    {
      "cell_type": "markdown",
      "metadata": {
        "id": "9qPfm8Jv7Elv",
        "colab_type": "text"
      },
      "source": [
        "Dividing training and testing data"
      ]
    },
    {
      "cell_type": "code",
      "metadata": {
        "id": "_svuy6ns61RZ",
        "colab_type": "code",
        "colab": {}
      },
      "source": [
        "y_train=train[:,-1]\n",
        "x_train=np.delete(train,-1,axis=1)\n",
        "y_test=test[:,-1]\n",
        "x_test=np.delete(test,-1,axis=1)\n",
        "y_dev=dev[:,-1]\n",
        "x_dev=np.delete(dev,-1,axis=1)"
      ],
      "execution_count": 0,
      "outputs": []
    },
    {
      "cell_type": "markdown",
      "metadata": {
        "id": "ZzViRnJO56kd",
        "colab_type": "text"
      },
      "source": [
        "Accuracy Function"
      ]
    },
    {
      "cell_type": "code",
      "metadata": {
        "id": "sJGLWRS159Qp",
        "colab_type": "code",
        "colab": {}
      },
      "source": [
        "def accuracy(y_pred,y_test,acc,s):\n",
        "    from sklearn.metrics import accuracy_score,confusion_matrix, f1_score\n",
        "    import seaborn as sns\n",
        "    import matplotlib.pyplot as plt\n",
        "    print(\"accuracy score:\",accuracy_score(y_test, y_pred))\n",
        "    acc[s]  = accuracy_score(y_test, y_pred)\n",
        "    print(\"confusion matrix:\\n\",confusion_matrix(y_test, y_pred))\n",
        "    print(\"f1 score:\",f1_score(y_test, y_pred, average='macro'))\n",
        "    # using heatmat to plot accuracy\n",
        "    a=np.array(y_pred).reshape(-1,1)\n",
        "    b=np.array(y_test).reshape(-1,1)\n",
        "    df=pd.DataFrame(np.append(a,b,axis=1))\n",
        "    df.columns=[\"predicted_vals\",\"true_vals\"]\n",
        "    cor = df.corr()\n",
        "    sns.heatmap(cor)\n",
        "    #to use scatter plot uncomment the below given code\n",
        "    #plt.scatter(y_test,y_pred)\n",
        "    plt.show()"
      ],
      "execution_count": 0,
      "outputs": []
    },
    {
      "cell_type": "markdown",
      "metadata": {
        "id": "ZsyLOAv96goO",
        "colab_type": "text"
      },
      "source": [
        "1) Using RandomForestClassifier from sklearn.ensemble to generate, fit the model and predict the output."
      ]
    },
    {
      "cell_type": "code",
      "metadata": {
        "id": "3pDPPqUk6fEi",
        "colab_type": "code",
        "colab": {}
      },
      "source": [
        "from sklearn.ensemble import RandomForestClassifier\n",
        "model = RandomForestClassifier(n_estimators=100, bootstrap = True, max_features = 'sqrt')\n",
        "model.fit(x_train,y_train)\n",
        "y_pred_randF= model.predict(x_test)\n",
        "y_pred_randF=y_pred_randF.tolist()"
      ],
      "execution_count": 0,
      "outputs": []
    },
    {
      "cell_type": "markdown",
      "metadata": {
        "id": "7qN2g5lH7N4D",
        "colab_type": "text"
      },
      "source": [
        "2) Using Naive Bayes Classifier from sklearn.ensemble to generate, fit the model and predict the output\n"
      ]
    },
    {
      "cell_type": "code",
      "metadata": {
        "id": "d7zQ8cEB6fJb",
        "colab_type": "code",
        "colab": {}
      },
      "source": [
        "from sklearn.naive_bayes import GaussianNB\n",
        "gnb = GaussianNB()\n",
        "y_pred_naiveBayes = gnb.fit(x_train, y_train).predict(x_test)"
      ],
      "execution_count": 0,
      "outputs": []
    },
    {
      "cell_type": "markdown",
      "metadata": {
        "id": "fhotwaSc7REG",
        "colab_type": "text"
      },
      "source": [
        "3) Using Support vector Machine from sklearn.ensemble to generate, fit the model and predict the output"
      ]
    },
    {
      "cell_type": "code",
      "metadata": {
        "id": "TYkTRkYG6fNX",
        "colab_type": "code",
        "colab": {}
      },
      "source": [
        "from sklearn import svm\n",
        "clf = svm.SVC()\n",
        "clf.fit(x_train, y_train)\n",
        "y_pred_SVM=clf.predict(x_test)"
      ],
      "execution_count": 0,
      "outputs": []
    },
    {
      "cell_type": "markdown",
      "metadata": {
        "id": "XRhJhES57UpC",
        "colab_type": "text"
      },
      "source": [
        "4) Using Stochastic Gradient Descent from sklearn.ensemble to generate, fit the model and predict the output"
      ]
    },
    {
      "cell_type": "code",
      "metadata": {
        "id": "1TfhW2RL6fIV",
        "colab_type": "code",
        "colab": {
          "base_uri": "https://localhost:8080/",
          "height": 71
        },
        "outputId": "20649671-e5c9-4989-d663-c6ca7a5ca567"
      },
      "source": [
        "from sklearn.linear_model import SGDClassifier\n",
        "clf = SGDClassifier(loss=\"hinge\", penalty=\"l2\", max_iter=5)\n",
        "clf.fit(x_train, y_train)\n",
        "SGDClassifier(max_iter=5)\n",
        "y_pred_SGD=clf.predict(x_test)"
      ],
      "execution_count": 17,
      "outputs": [
        {
          "output_type": "stream",
          "text": [
            "/usr/local/lib/python3.6/dist-packages/sklearn/linear_model/_stochastic_gradient.py:557: ConvergenceWarning: Maximum number of iteration reached before convergence. Consider increasing max_iter to improve the fit.\n",
            "  ConvergenceWarning)\n"
          ],
          "name": "stderr"
        }
      ]
    },
    {
      "cell_type": "markdown",
      "metadata": {
        "id": "D5_19aL17ZPn",
        "colab_type": "text"
      },
      "source": [
        "5) Using KNN from sklearn.ensemble to generate, fit the model and predict the output"
      ]
    },
    {
      "cell_type": "code",
      "metadata": {
        "id": "sM3H51ot6fHQ",
        "colab_type": "code",
        "colab": {}
      },
      "source": [
        "from sklearn.neighbors import KNeighborsClassifier\n",
        "neigh = KNeighborsClassifier(n_neighbors=2)\n",
        "neigh.fit(x_train,y_train)\n",
        "y_pred_KNN=neigh.predict(x_test)"
      ],
      "execution_count": 0,
      "outputs": []
    },
    {
      "cell_type": "code",
      "metadata": {
        "id": "LeMgCMm4jB6e",
        "colab_type": "code",
        "colab": {
          "base_uri": "https://localhost:8080/",
          "height": 1000
        },
        "outputId": "47d42ceb-489c-4078-c73e-17eb1f5f65bc"
      },
      "source": [
        "accuracy_matrix={\"Random Forest\":\"\",\"Naive Bayes\":\"\",\"Support Vector Machine\":\"\",\"Stochastic Gradient Decent\":\"\",\"KNN\":\"\"}\n",
        "print(\"Random Forest Accuracy\")\n",
        "method=\"Random Forest\"\n",
        "accuracy(y_pred_randF,y_test,accuracy_matrix,method)\n",
        "print(\"\\nNaive Bayes Accuracy\")\n",
        "method=\"Naive Bayes\"\n",
        "accuracy(y_pred_naiveBayes,y_test,accuracy_matrix,method)\n",
        "print(\"\\nSupport Vector Machine Accuracy\")\n",
        "method=\"Support Vector Mahcine\"\n",
        "accuracy(y_pred_SVM,y_test,accuracy_matrix,method)\n",
        "print(\"\\nStochastic Gradient Decent Accuracy\")\n",
        "method=\"Stochastic Gradient Decent\"\n",
        "accuracy(y_pred_SGD,y_test,accuracy_matrix,method)\n",
        "print(\"\\nKNN Accuracy\")\n",
        "method=\"KNN\"\n",
        "accuracy(y_pred_KNN,y_test,accuracy_matrix,method)"
      ],
      "execution_count": 28,
      "outputs": [
        {
          "output_type": "stream",
          "text": [
            "Random Forest Accuracy\n",
            "accuracy score: 0.9416666666666667\n",
            "confusion matrix:\n",
            " [[20  0  0  0  0  0]\n",
            " [ 0 19  1  0  0  0]\n",
            " [ 0  0 19  0  1  0]\n",
            " [ 0  0  0 20  0  0]\n",
            " [ 2  0  1  1 16  0]\n",
            " [ 0  0  0  0  1 19]]\n",
            "f1 score: 0.9409405314411733\n"
          ],
          "name": "stdout"
        },
        {
          "output_type": "display_data",
          "data": {
            "image/png": "[encoded data removed]",
            "text/plain": [
              "<Figure size 432x288 with 2 Axes>"
            ]
          },
          "metadata": {
            "tags": [],
            "needs_background": "light"
          }
        },
        {
          "output_type": "stream",
          "text": [
            "\n",
            "Naive Bayes Accuracy\n",
            "accuracy score: 0.5916666666666667\n",
            "confusion matrix:\n",
            " [[18  0  0  1  1  0]\n",
            " [ 0 16  1  1  2  0]\n",
            " [ 3  4 10  1  1  1]\n",
            " [ 0  1  2 12  4  1]\n",
            " [ 1  2  5  2  7  3]\n",
            " [ 2  0  6  2  2  8]]\n",
            "f1 score: 0.5825874663083966\n"
          ],
          "name": "stdout"
        },
        {
          "output_type": "display_data",
          "data": {
            "image/png": "[encoded data removed]",
            "text/plain": [
              "<Figure size 432x288 with 2 Axes>"
            ]
          },
          "metadata": {
            "tags": [],
            "needs_background": "light"
          }
        },
        {
          "output_type": "stream",
          "text": [
            "\n",
            "Support Vector Machine Accuracy\n",
            "accuracy score: 0.925\n",
            "confusion matrix:\n",
            " [[20  0  0  0  0  0]\n",
            " [ 0 18  1  1  0  0]\n",
            " [ 0  2 18  0  0  0]\n",
            " [ 0  0  1 19  0  0]\n",
            " [ 0  0  1  2 16  1]\n",
            " [ 0  0  0  0  0 20]]\n",
            "f1 score: 0.9245515550393599\n"
          ],
          "name": "stdout"
        },
        {
          "output_type": "display_data",
          "data": {
            "image/png": "[encoded data removed]",
            "text/plain": [
              "<Figure size 432x288 with 2 Axes>"
            ]
          },
          "metadata": {
            "tags": [],
            "needs_background": "light"
          }
        },
        {
          "output_type": "stream",
          "text": [
            "\n",
            "Stochastic Gradient Decent Accuracy\n",
            "accuracy score: 0.5583333333333333\n",
            "confusion matrix:\n",
            " [[11  1  0  1  0  7]\n",
            " [ 0 18  0  2  0  0]\n",
            " [ 0 10  0  0  1  9]\n",
            " [ 0  1  0 13  0  6]\n",
            " [ 0  2  0  4  6  8]\n",
            " [ 0  0  0  1  0 19]]\n",
            "f1 score: 0.5052167558752583\n"
          ],
          "name": "stdout"
        },
        {
          "output_type": "display_data",
          "data": {
            "image/png": "[encoded data removed]",
            "text/plain": [
              "<Figure size 432x288 with 2 Axes>"
            ]
          },
          "metadata": {
            "tags": [],
            "needs_background": "light"
          }
        },
        {
          "output_type": "stream",
          "text": [
            "\n",
            "KNN Accuracy\n",
            "accuracy score: 0.7416666666666667\n",
            "confusion matrix:\n",
            " [[20  0  0  0  0  0]\n",
            " [ 0 20  0  0  0  0]\n",
            " [ 0  6 13  0  1  0]\n",
            " [ 1  1  4 14  0  0]\n",
            " [ 1  2  3  5  9  0]\n",
            " [ 0  1  1  3  2 13]]\n",
            "f1 score: 0.7339287913983036\n"
          ],
          "name": "stdout"
        },
        {
          "output_type": "display_data",
          "data": {
            "image/png": "[encoded data removed]",
            "text/plain": [
              "<Figure size 432x288 with 2 Axes>"
            ]
          },
          "metadata": {
            "tags": [],
            "needs_background": "light"
          }
        }
      ]
    },
    {
      "cell_type": "code",
      "metadata": {
        "id": "LG5JKoZh8WXs",
        "colab_type": "code",
        "colab": {
          "base_uri": "https://localhost:8080/",
          "height": 102
        },
        "outputId": "fd3ba841-970c-4e89-8cbc-37420efde958"
      },
      "source": [
        "for i in accuracy_matrix:\n",
        "    if accuracy_matrix[i] != \"\":\n",
        "        print(i,accuracy_matrix[i])"
      ],
      "execution_count": 29,
      "outputs": [
        {
          "output_type": "stream",
          "text": [
            "Random Forest 0.9416666666666667\n",
            "Naive Bayes 0.5916666666666667\n",
            "Stochastic Gradient Decent 0.5583333333333333\n",
            "KNN 0.7416666666666667\n",
            "Support Vector Mahcine 0.925\n"
          ],
          "name": "stdout"
        }
      ]
    },
    {
      "cell_type": "code",
      "metadata": {
        "id": "X30N5z888iRF",
        "colab_type": "code",
        "colab": {}
      },
      "source": [
        ""
      ],
      "execution_count": 0,
      "outputs": []
    }
  ]
}